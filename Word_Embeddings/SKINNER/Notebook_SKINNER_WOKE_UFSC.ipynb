{
  "cells": [
    {
      "cell_type": "markdown",
      "source": [
        "# **Semantic Knowledge and Interpretation Navigator for Nurturing Exact References** - WOKE - UFSC"
      ],
      "metadata": {
        "id": "M53Tn-4yzKT3"
      }
    },
    {
      "cell_type": "markdown",
      "metadata": {
        "id": "hWWZMW1GdhdU"
      },
      "source": [
        "Notebook para gerar PDF de resultados a respeito da construção de contexto de tokens encontrados nos modelos treinados pelo Grupo de Estudos e Pesquisa em IA e História da UFSC.\n",
        "\n",
        "Se você está visualizando este notebook no GitHub, por favor entre no nosso [Notebook no Colab](https://colab.research.google.com/drive/1An5pyze-djfVcbxlNVw5P_WwQWLOFtoV?usp=sharing).\n",
        "\n",
        "\n",
        "---\n",
        "\n",
        "\n",
        "Para mais informações sobre este notebook visite: [GitHub - SKINNER - WOKE](https://github.com/iaehistoriaUFSC/Repositorio_UFSC/tree/main/Word_Embeddings/SKINNER).\n",
        "\n",
        "Ou acesse o vídeo para execução deste notebook: [Vídeo suporte - notebook SKINNER - WOKE](https://drive.google.com/file/d/1QemW0PDpeg8gAIa9Vc-ca0Ad6rRbG1Ri/view?usp=drive_link).\n",
        "\n",
        "\n",
        "---\n",
        "\n",
        "\n",
        "\n",
        "Para mais detalhes sobre o projeto todo visite nossa página principal do GitHub: [GitHub Repositorio UFSC - WOKE](https://github.com/iaehistoriaUFSC/Repositorio_UFSC).\n",
        "\n",
        "\n",
        "## ❗ **Primeiro, salve uma cópia deste Notebook no seu Drive!** ❗\n",
        "\n",
        "Depois execute a primeira célula de código abaixo \"Configurando este ambiente\" e depois execute a segunda célula de código \"Exec\", nesta ordem!\n",
        "\n",
        "*Em caso de parar a execução e querer executar novamente, basta executar a segunda célula se este ambiente ainda estiver conectado.*"
      ]
    },
    {
      "cell_type": "markdown",
      "metadata": {
        "id": "ckFnRN4ASYoR"
      },
      "source": [
        "## Configurando este ambiente *(pode levar alguns minutos)*"
      ]
    },
    {
      "cell_type": "code",
      "execution_count": null,
      "metadata": {
        "id": "Z-4AlO11ocM1",
        "colab": {
          "base_uri": "https://localhost:8080/"
        },
        "outputId": "e8db5f0f-c199-4813-82b0-347556a0c2c3"
      },
      "outputs": [
        {
          "output_type": "stream",
          "name": "stdout",
          "text": [
            "Collecting weasyprint\n",
            "  Downloading weasyprint-62.3-py3-none-any.whl.metadata (3.7 kB)\n",
            "Collecting pydyf>=0.10.0 (from weasyprint)\n",
            "  Downloading pydyf-0.11.0-py3-none-any.whl.metadata (2.5 kB)\n",
            "Requirement already satisfied: cffi>=0.6 in /usr/local/lib/python3.10/dist-packages (from weasyprint) (1.17.0)\n",
            "Requirement already satisfied: html5lib>=1.1 in /usr/local/lib/python3.10/dist-packages (from weasyprint) (1.1)\n",
            "Requirement already satisfied: tinycss2>=1.3.0 in /usr/local/lib/python3.10/dist-packages (from weasyprint) (1.3.0)\n",
            "Collecting cssselect2>=0.1 (from weasyprint)\n",
            "  Downloading cssselect2-0.7.0-py3-none-any.whl.metadata (2.9 kB)\n",
            "Collecting Pyphen>=0.9.1 (from weasyprint)\n",
            "  Downloading pyphen-0.16.0-py3-none-any.whl.metadata (3.2 kB)\n",
            "Requirement already satisfied: Pillow>=9.1.0 in /usr/local/lib/python3.10/dist-packages (from weasyprint) (9.4.0)\n",
            "Requirement already satisfied: fonttools>=4.0.0 in /usr/local/lib/python3.10/dist-packages (from fonttools[woff]>=4.0.0->weasyprint) (4.53.1)\n",
            "Requirement already satisfied: pycparser in /usr/local/lib/python3.10/dist-packages (from cffi>=0.6->weasyprint) (2.22)\n",
            "Requirement already satisfied: webencodings in /usr/local/lib/python3.10/dist-packages (from cssselect2>=0.1->weasyprint) (0.5.1)\n",
            "Collecting zopfli>=0.1.4 (from fonttools[woff]>=4.0.0->weasyprint)\n",
            "  Downloading zopfli-0.2.3-cp310-cp310-manylinux_2_12_x86_64.manylinux2010_x86_64.whl.metadata (2.9 kB)\n",
            "Collecting brotli>=1.0.1 (from fonttools[woff]>=4.0.0->weasyprint)\n",
            "  Downloading Brotli-1.1.0-cp310-cp310-manylinux_2_5_x86_64.manylinux1_x86_64.manylinux_2_12_x86_64.manylinux2010_x86_64.whl.metadata (5.5 kB)\n",
            "Requirement already satisfied: six>=1.9 in /usr/local/lib/python3.10/dist-packages (from html5lib>=1.1->weasyprint) (1.16.0)\n",
            "Downloading weasyprint-62.3-py3-none-any.whl (289 kB)\n",
            "\u001b[2K   \u001b[90m━━━━━━━━━━━━━━━━━━━━━━━━━━━━━━━━━━━━━━━━\u001b[0m \u001b[32m289.3/289.3 kB\u001b[0m \u001b[31m6.5 MB/s\u001b[0m eta \u001b[36m0:00:00\u001b[0m\n",
            "\u001b[?25hDownloading cssselect2-0.7.0-py3-none-any.whl (15 kB)\n",
            "Downloading pydyf-0.11.0-py3-none-any.whl (8.1 kB)\n",
            "Downloading pyphen-0.16.0-py3-none-any.whl (2.1 MB)\n",
            "\u001b[2K   \u001b[90m━━━━━━━━━━━━━━━━━━━━━━━━━━━━━━━━━━━━━━━━\u001b[0m \u001b[32m2.1/2.1 MB\u001b[0m \u001b[31m28.1 MB/s\u001b[0m eta \u001b[36m0:00:00\u001b[0m\n",
            "\u001b[?25hDownloading Brotli-1.1.0-cp310-cp310-manylinux_2_5_x86_64.manylinux1_x86_64.manylinux_2_12_x86_64.manylinux2010_x86_64.whl (3.0 MB)\n",
            "\u001b[2K   \u001b[90m━━━━━━━━━━━━━━━━━━━━━━━━━━━━━━━━━━━━━━━━\u001b[0m \u001b[32m3.0/3.0 MB\u001b[0m \u001b[31m39.2 MB/s\u001b[0m eta \u001b[36m0:00:00\u001b[0m\n",
            "\u001b[?25hDownloading zopfli-0.2.3-cp310-cp310-manylinux_2_12_x86_64.manylinux2010_x86_64.whl (848 kB)\n",
            "\u001b[2K   \u001b[90m━━━━━━━━━━━━━━━━━━━━━━━━━━━━━━━━━━━━━━━━\u001b[0m \u001b[32m848.9/848.9 kB\u001b[0m \u001b[31m19.1 MB/s\u001b[0m eta \u001b[36m0:00:00\u001b[0m\n",
            "\u001b[?25hInstalling collected packages: brotli, zopfli, Pyphen, pydyf, cssselect2, weasyprint\n",
            "Successfully installed Pyphen-0.16.0 brotli-1.1.0 cssselect2-0.7.0 pydyf-0.11.0 weasyprint-62.3 zopfli-0.2.3\n",
            "Requirement already satisfied: openpyxl in /usr/local/lib/python3.10/dist-packages (3.1.5)\n",
            "Requirement already satisfied: et-xmlfile in /usr/local/lib/python3.10/dist-packages (from openpyxl) (1.1.0)\n",
            "Requirement already satisfied: gdown in /usr/local/lib/python3.10/dist-packages (5.1.0)\n",
            "Requirement already satisfied: beautifulsoup4 in /usr/local/lib/python3.10/dist-packages (from gdown) (4.12.3)\n",
            "Requirement already satisfied: filelock in /usr/local/lib/python3.10/dist-packages (from gdown) (3.15.4)\n",
            "Requirement already satisfied: requests[socks] in /usr/local/lib/python3.10/dist-packages (from gdown) (2.32.3)\n",
            "Requirement already satisfied: tqdm in /usr/local/lib/python3.10/dist-packages (from gdown) (4.66.5)\n",
            "Requirement already satisfied: soupsieve>1.2 in /usr/local/lib/python3.10/dist-packages (from beautifulsoup4->gdown) (2.6)\n",
            "Requirement already satisfied: charset-normalizer<4,>=2 in /usr/local/lib/python3.10/dist-packages (from requests[socks]->gdown) (3.3.2)\n",
            "Requirement already satisfied: idna<4,>=2.5 in /usr/local/lib/python3.10/dist-packages (from requests[socks]->gdown) (3.7)\n",
            "Requirement already satisfied: urllib3<3,>=1.21.1 in /usr/local/lib/python3.10/dist-packages (from requests[socks]->gdown) (2.0.7)\n",
            "Requirement already satisfied: certifi>=2017.4.17 in /usr/local/lib/python3.10/dist-packages (from requests[socks]->gdown) (2024.7.4)\n",
            "Requirement already satisfied: PySocks!=1.5.7,>=1.5.6 in /usr/local/lib/python3.10/dist-packages (from requests[socks]->gdown) (1.7.1)\n",
            "Cloning into 'Repositorio_UFSC'...\n",
            "remote: Enumerating objects: 1205, done.\u001b[K\n",
            "remote: Counting objects: 100% (235/235), done.\u001b[K\n",
            "remote: Compressing objects: 100% (183/183), done.\u001b[K\n",
            "remote: Total 1205 (delta 111), reused 119 (delta 44), pack-reused 970 (from 1)\u001b[K\n",
            "Receiving objects: 100% (1205/1205), 492.49 MiB | 30.49 MiB/s, done.\n",
            "Resolving deltas: 100% (507/507), done.\n",
            "Updating files: 100% (250/250), done.\n",
            "/content/Repositorio_UFSC/Word_Embeddings/SKINNER/src\n",
            "/content\n"
          ]
        }
      ],
      "source": [
        "!pip install weasyprint\n",
        "!pip install openpyxl\n",
        "!pip install gdown\n",
        "\n",
        "!git clone https://github.com/iaehistoriaUFSC/Repositorio_UFSC.git\n",
        "\n",
        "%cd /content/Repositorio_UFSC/Word_Embeddings/SKINNER/src\n",
        "from main import SKINNER\n",
        "\n",
        "%cd /content/"
      ]
    },
    {
      "cell_type": "markdown",
      "metadata": {
        "id": "mU4WhYaISc9p"
      },
      "source": [
        "## Exec"
      ]
    },
    {
      "cell_type": "code",
      "execution_count": null,
      "metadata": {
        "id": "QrKnP-46xDmy"
      },
      "outputs": [],
      "source": [
        "if __name__ == '__main__':\n",
        "  SKINNER()\n"
      ]
    }
  ],
  "metadata": {
    "colab": {
      "collapsed_sections": [
        "ckFnRN4ASYoR"
      ],
      "provenance": []
    },
    "kernelspec": {
      "display_name": "Python 3",
      "name": "python3"
    },
    "language_info": {
      "name": "python"
    }
  },
  "nbformat": 4,
  "nbformat_minor": 0
}