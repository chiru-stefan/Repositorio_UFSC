{
  "cells": [
    {
      "cell_type": "markdown",
      "metadata": {
        "id": "8IwqEpFMdYoW"
      },
      "source": [
        "# Notebook para gerar e visualizar imagens referentes aos resultados encontrados nos modelos treinados pelo Grupo de Estudos e Pesquisa em IA e História da UFSC."
      ]
    },
    {
      "cell_type": "markdown",
      "metadata": {
        "id": "hWWZMW1GdhdU"
      },
      "source": [
        "Se você está visualizando este notebook no GitHub, por favor entre no nosso [Notebook no Colab](https://colab.research.google.com/drive/1WQ-BxqWycFUzObUvyDbWo4aT40aB355C?usp=sharing).\n",
        "\n",
        "---\n",
        "\n",
        "Atualmente possuímos apenas modelos treinados com séries temporais.\n",
        "\n",
        "\n",
        "---\n",
        "\n",
        "\n",
        "Para mais informações de como usar este notebook visite: [GitHub - Visualizações WOKE](https://github.com/iaehistoriaUFSC/Repositorio_UFSC/tree/main/Word_Embeddings/Visualizacoes)\n",
        "\n",
        "**Ou acesse o vídeo: [Vídeo suporte - notebook visualizações WOKE](https://drive.google.com/file/d/1QPyY0m0DiFfGMJfXSTLuNzgECl3W78KR/view?usp=drive_link)** *(não esqueça de selecionar a qualidade e a velocidade de reprodução)*.\n",
        "\n",
        "\n",
        "---\n",
        "\n",
        "\n",
        "\n",
        "Para mais detalhes sobre o projeto todo visite nossa página principal do GitHub: [GitHub Repositorio UFSC - WOKE](https://github.com/iaehistoriaUFSC/Repositorio_UFSC)\n",
        "\n",
        "\n",
        "## ❗ **Primeiro, salve uma cópia deste Notebook no seu Drive!** ❗\n",
        "\n",
        "Depois execute a primeira célula de código abaixo \"Configurando este ambiente\" e depois execute a segunda célula de código \"Exec\", nesta ordem!\n",
        "\n",
        "*Em caso de parar a execução e querer executar novamente, basta executar a segunda célula se este ambiente ainda estiver conectado.*"
      ]
    },
    {
      "cell_type": "markdown",
      "metadata": {
        "id": "ckFnRN4ASYoR"
      },
      "source": [
        "## Configurando este ambiente *(pode levar alguns minutos)*"
      ]
    },
    {
      "cell_type": "code",
      "execution_count": null,
      "metadata": {
        "id": "Z-4AlO11ocM1"
      },
      "outputs": [],
      "source": [
        "!pip install gensim\n",
        "!pip install -U spacy\n",
        "!pip install -U spacy-lookups-data\n",
        "!python -m spacy download pt_core_news_lg\n",
        "!pip install scikit-learn\n",
        "!pip install seaborn\n",
        "!pip install pandas\n",
        "!pip install matplotlib\n",
        "!pip install gdown\n",
        "!pip install networkx\n",
        "\n",
        "\n",
        "!git clone https://github.com/iaehistoriaUFSC/Repositorio_UFSC.git\n",
        "%cd /content/Repositorio_UFSC/Word_Embeddings/Visualizacoes\n",
        "from main import main"
      ]
    },
    {
      "cell_type": "markdown",
      "metadata": {
        "id": "mU4WhYaISc9p"
      },
      "source": [
        "## Exec"
      ]
    },
    {
      "cell_type": "code",
      "execution_count": null,
      "metadata": {
        "id": "QrKnP-46xDmy"
      },
      "outputs": [],
      "source": [
        "if __name__ == '__main__':\n",
        "  main()\n"
      ]
    }
  ],
  "metadata": {
    "colab": {
      "collapsed_sections": [
        "ckFnRN4ASYoR"
      ],
      "provenance": []
    },
    "kernelspec": {
      "display_name": "Python 3",
      "name": "python3"
    },
    "language_info": {
      "name": "python"
    }
  },
  "nbformat": 4,
  "nbformat_minor": 0
}