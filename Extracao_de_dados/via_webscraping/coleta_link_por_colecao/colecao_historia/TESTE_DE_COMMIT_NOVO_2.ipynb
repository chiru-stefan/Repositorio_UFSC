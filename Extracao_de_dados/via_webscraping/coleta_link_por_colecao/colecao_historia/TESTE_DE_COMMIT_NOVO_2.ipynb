{
  "nbformat": 4,
  "nbformat_minor": 0,
  "metadata": {
    "colab": {
      "provenance": [],
      "authorship_tag": "ABX9TyPLP3k7zgfoEs+hqBiR990M",
      "include_colab_link": true
    },
    "kernelspec": {
      "name": "python3",
      "display_name": "Python 3"
    },
    "language_info": {
      "name": "python"
    }
  },
  "cells": [
    {
      "cell_type": "markdown",
      "metadata": {
        "id": "view-in-github",
        "colab_type": "text"
      },
      "source": [
        "<a href=\"https://colab.research.google.com/github/iaehistoriaUFSC/Repositorio_UFSC/blob/main/Extracao_de_dados/via_webscraping/coleta_link_por_colecao/colecao_historia/TESTE_DE_COMMIT_NOVO_2.ipynb\" target=\"_parent\"><img src=\"https://colab.research.google.com/assets/colab-badge.svg\" alt=\"Open In Colab\"/></a>"
      ]
    },
    {
      "cell_type": "code",
      "execution_count": null,
      "metadata": {
        "id": "tCAgSf3eNciM"
      },
      "outputs": [],
      "source": [
        "##TESTANDO UM NOVO COMMIT, DE UM DOCUMENTO EM BRANCO 2"
      ]
    }
  ]
}