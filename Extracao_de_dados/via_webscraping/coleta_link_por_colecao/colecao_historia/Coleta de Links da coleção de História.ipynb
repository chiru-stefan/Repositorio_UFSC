{
  "nbformat": 4,
  "nbformat_minor": 0,
  "metadata": {
    "colab": {
      "provenance": []
    },
    "kernelspec": {
      "name": "python3",
      "display_name": "Python 3"
    },
    "language_info": {
      "name": "python"
    }
  },
  "cells": [
    {
      "cell_type": "markdown",
      "source": [
        "#Preparando o ambiente"
      ],
      "metadata": {
        "id": "mkscqKKXK0zu"
      }
    },
    {
      "cell_type": "markdown",
      "source": [
        "**Execução 1** - baixando e importanto bibliotecas utilizadas ao decorrer da execução do programa"
      ],
      "metadata": {
        "id": "ORKuc8VYgy5C"
      }
    },
    {
      "cell_type": "code",
      "source": [
        "# Importando e instalando as bibliotecas que serão utilizadas\n",
        "feedback_geral = ('*'*100)+'\\nImportando e baixando bibliotecas\\n'+('*'*100)\n",
        "from google.colab import drive\n",
        "try:\n",
        "  try:\n",
        "    import time\n",
        "    import os\n",
        "    import sys\n",
        "    import requests\n",
        "    from bs4 import BeautifulSoup\n",
        "    import pandas as pd\n",
        "    import re\n",
        "  except:\n",
        "    !pip install requests\n",
        "    !pip install beautifulsoup4\n",
        "    !pip install pandas\n",
        "    !pip install regex\n",
        "    import requests\n",
        "    from bs4 import BeautifulSoup\n",
        "    import pandas as pd\n",
        "    import re\n",
        "  try:\n",
        "    from urllib import request\n",
        "  except:\n",
        "    !pip install urllib3\n",
        "    from urllib import request\n",
        "except:\n",
        "  print('\\nErro ao instalar pacotes/bibliotecas.')\n",
        "  execucao = False\n",
        "  feedback_geral += '\\nErro ao instalar pacotes/bibliotecas.'\n",
        "else:\n",
        "  execucao = True # Variável que armazenará o sucesso no download das bibliotecas\n",
        "  print('='*100)\n",
        "  print('Bibliotecas carregadas!\\nPode executar o código abaixo.')\n",
        "  print('='*100)\n",
        "  feedback_geral += '\\nBibliotecas carregadas!'"
      ],
      "metadata": {
        "colab": {
          "base_uri": "https://localhost:8080/"
        },
        "id": "TFjDdpEz5spz",
        "outputId": "08331477-b26b-43f0-e0bb-12eda203e800"
      },
      "execution_count": null,
      "outputs": [
        {
          "output_type": "stream",
          "name": "stdout",
          "text": [
            "====================================================================================================\n",
            "Bibliotecas carregadas!\n",
            "Pode executar o código abaixo.\n",
            "====================================================================================================\n"
          ]
        }
      ]
    },
    {
      "cell_type": "markdown",
      "source": [
        "\n",
        "**Execução 2** - Conectando ambiente do Google Colab ao Google Drive"
      ],
      "metadata": {
        "id": "lVMkG24Jg2pq"
      }
    },
    {
      "cell_type": "code",
      "source": [
        "feedback_geral += '\\n'+('*'*100)+'\\nMontando Drive.\\n'+('*'*100)\n",
        "try:\n",
        "  drive.mount('/content/drive')\n",
        "except:\n",
        "  print('\\nErro ao \"sincronizar\" Google Drive com este ambiente do Google Colab.\\nExecute a célula novamente ou tente \"montar\" o Drive manualmente no botão de \"Montar Drive\" no menu lateral esquerdo.')\n",
        "  print('Descrição do erro --> '+str(sys.exc_info()[0].__name__)+\":\",str(sys.exc_info()[1])+'\\n')\n",
        "  execucao = False\n",
        "  feedback_geral += '\\nErro ao \"sincronizar\" Google Drive com este ambiente do Google Colab.\\nExecute a célula novamente ou tente \"montar\" o Drive manualmente no botão de \"Montar Drive\" no menu lateral esquerdo.Descrição do erro --> '+str(sys.exc_info()[0].__name__)+\": \"+str(sys.exc_info()[1])+'.'\n",
        "else:\n",
        "  print('='*100)\n",
        "  print('Drive conectado com sucesso.\\nPode prosseguir na execução das próximas células.')\n",
        "  print('='*100)\n",
        "  feedback_geral += '\\nDrive conectado com sucesso.'"
      ],
      "metadata": {
        "id": "zrd_Ttsgg7x5",
        "colab": {
          "base_uri": "https://localhost:8080/"
        },
        "outputId": "982f82f9-c5d2-41f4-87f7-77013394e664"
      },
      "execution_count": null,
      "outputs": [
        {
          "output_type": "stream",
          "name": "stdout",
          "text": [
            "Mounted at /content/drive\n",
            "====================================================================================================\n",
            "Drive conectado com sucesso.\n",
            "Pode prosseguir na execução das próximas células.\n",
            "====================================================================================================\n"
          ]
        }
      ]
    },
    {
      "cell_type": "markdown",
      "source": [
        "**Execução 3** - Definindo variáveis e funções que serão utilizadas ao decorrer do programa"
      ],
      "metadata": {
        "id": "nIF4bh29g9Y3"
      }
    },
    {
      "cell_type": "code",
      "source": [
        "feedback_geral += '\\n'+('*'*100)+'\\nDefinindo função de criação de diretório.\\n'+('*'*100)\n",
        "if execucao:\n",
        "  headers = {'User-Agent': \"Mozilla/5.0 (Windows NT 10.0; Win64; x64) AppleWebKit/537.36 \\\n",
        "                (KHTML, like Gecko) Chrome/104.0.0.0 Safari/537.36\"}\n",
        "  timeout = 30\n",
        "  caminho_pasta_principal = '/content/drive/MyDrive/Programa - Repositório Institucional UFSC/Extração de Dados/via Web Scraping/Resultados/Teste com a Coleção de História do Repositorio UFSC'\n",
        "  try:\n",
        "    def CriaDiretorio(caminho : str):\n",
        "      os.makedirs(caminho)\n",
        "      time.sleep(1)\n",
        "      if os.path.isdir(caminho):\n",
        "        print(f'Pasta {caminho} criada com sucesso.')\n",
        "        return True\n",
        "      else:\n",
        "        print(f'Tentando criar pasta {caminho} novamente.')\n",
        "        time.sleep(3)\n",
        "        if os.path.isdir(caminho):\n",
        "          print(f'Pasta {caminho} criada com sucesso.')\n",
        "          return True\n",
        "        else:\n",
        "          print(f'Pasta {caminho} não foi carregada corretamente.')\n",
        "          execucao = False\n",
        "          return False\n",
        "  except:\n",
        "    print('Erro ao criar função de criação e verificação de diretório (pasta de trabalho).\\nTente executar esta célula novamente.')\n",
        "    print('Descrição do erro --> '+str(sys.exc_info()[0].__name__)+\":\",str(sys.exc_info()[1])+'\\n')\n",
        "    feedback_geral += '\\nErro ao criar função de criação e verificação de diretório (pasta de trabalho).\\nDescrição do erro --> '+str(sys.exc_info()[0].__name__)+\": \"+str(sys.exc_info()[1])+'.'\n",
        "  else:\n",
        "    print('='*100)\n",
        "    print('Variáveis para requisições e função de criação de diretório criadas com sucesso.\\nPode dar continuidade na execução das células abaixo.')\n",
        "    print('='*100)\n",
        "    feedback_geral += '\\nVariáveis para requisições e função de criação de diretório criadas com sucesso.'\n",
        "else:\n",
        "  print('\\nFalha no carregamento das bibliotecas. Tente executar a primeira célula de códigos novamente.\\n')\n",
        "  feedback_geral += '\\nFalha no carregamento das bibliotecas. Tente executar a primeira célula de códigos novamente.'"
      ],
      "metadata": {
        "id": "ZcbnyRUkg_0N",
        "colab": {
          "base_uri": "https://localhost:8080/"
        },
        "outputId": "ce9f2e60-614b-40c1-d382-43cc7830ca90"
      },
      "execution_count": null,
      "outputs": [
        {
          "output_type": "stream",
          "name": "stdout",
          "text": [
            "====================================================================================================\n",
            "Variáveis para requisições e função de criação de diretório criadas com sucesso.\n",
            "Pode dar continuidade na execução das células abaixo.\n",
            "====================================================================================================\n"
          ]
        }
      ]
    },
    {
      "cell_type": "markdown",
      "source": [
        "**Execução 4** - Criação de pasta \"Coleções Repositorio UFSC\" e sub-pasta \"Links dos trabalhos - Repositorio UFSC\" para armazenamento dos primeiros dados (links das coleções)"
      ],
      "metadata": {
        "id": "q1LD9yH9hBmR"
      }
    },
    {
      "cell_type": "code",
      "source": [
        "feedback_geral += '\\n'+('*'*100)+'\\nCriando pasta de Coleções Repositorio UFSC e sub-pasta Links dos trabalhos - Repositorio UFSC.\\n'+('*'*100)\n",
        "if execucao:\n",
        "  try:\n",
        "    if(CriaDiretorio(caminho_pasta_principal+\"/Links dos trabalhos - Repositorio UFSC\") and CriaDiretorio(caminho_pasta_principal+\"/Feedbacks de execução\")):\n",
        "      pass\n",
        "    else:\n",
        "      execucao = False\n",
        "      print(f'\\nErro na criação da pasta \"{caminho_pasta_principal}/Links dos trabalhos - Repositorio UFSC\".\\nTente novamente.\\n')\n",
        "      feedback_geral += f'\\nErro na criação da pasta \"{caminho_pasta_principal}/Links dos trabalhos - Repositorio UFSC\".\\nTente novamente.'\n",
        "  except:\n",
        "    print('\\nErro ao sincronizar e criar pasta no Drive com o código do Google Colab.\\nTente executar a célula de códigos novamente.\\n')\n",
        "    print('Descrição do erro --> '+str(sys.exc_info()[0].__name__)+\":\",str(sys.exc_info()[1])+'\\n')\n",
        "    execucao = False\n",
        "    feedback_geral += '\\nErro ao sincronizar e criar pasta no Drive com o código do Google Colab.\\nDescrição do erro --> '+str(sys.exc_info()[0].__name__)+\": \"+str(sys.exc_info()[1])+'.'\n",
        "  else:\n",
        "    print('='*100)\n",
        "    print('Pastas de trabalhos \"Coleções Repositorio UFSC\" e \"Links dos trabalhos - Repositorio UFSC\" criadas com sucesso!\\nPode continuar e executar os códigos abaixo.')\n",
        "    print('='*100)\n",
        "    feedback_geral += '\\nPastas de trabalhos \"Coleções Repositorio UFSC\" e \"Links dos trabalhos - Repositorio UFSC\" criadas com sucesso!\\nPode continuar e executar os códigos abaixo.'\n",
        "else:\n",
        "  print('\\nFalha no carregamento das bibliotecas. Tente executar a primeira célula de códigos novamente.\\n')\n",
        "  feedback_geral += '\\nFalha no carregamento das bibliotecas.'"
      ],
      "metadata": {
        "id": "uoxWPV7xhEUZ",
        "colab": {
          "base_uri": "https://localhost:8080/"
        },
        "outputId": "796f6cd9-be25-4298-927b-7aa8d1bdc2da"
      },
      "execution_count": null,
      "outputs": [
        {
          "output_type": "stream",
          "name": "stdout",
          "text": [
            "Pasta /content/drive/MyDrive/Programa - Repositório Institucional UFSC/Extração de Dados/via Web Scraping/Resultados/Teste com a Coleção de História do Repositorio UFSC/Links dos trabalhos - Repositorio UFSC criada com sucesso.\n",
            "Pasta /content/drive/MyDrive/Programa - Repositório Institucional UFSC/Extração de Dados/via Web Scraping/Resultados/Teste com a Coleção de História do Repositorio UFSC/Feedbacks de execução criada com sucesso.\n",
            "====================================================================================================\n",
            "Pastas de trabalhos \"Coleções Repositorio UFSC\" e \"Links dos trabalhos - Repositorio UFSC\" criadas com sucesso!\n",
            "Pode continuar e executar os códigos abaixo.\n",
            "====================================================================================================\n"
          ]
        }
      ]
    },
    {
      "cell_type": "markdown",
      "source": [
        "#Execução das ações, de fato"
      ],
      "metadata": {
        "id": "EvXZnikcK5kb"
      }
    },
    {
      "cell_type": "markdown",
      "source": [
        "**Execução 5** - Preenchimento de dados (links) das coleções e dos trabalhos de cada coleção"
      ],
      "metadata": {
        "id": "P3RscsgihGx7"
      }
    },
    {
      "cell_type": "code",
      "source": [
        "feedback_geral += '\\n'+('*'*100)+'\\nIniciando preenchimento de dados (links) das coleções e dos trabalhos de cada coleção.\\n'+('*'*100)\n",
        "if execucao:\n",
        "  # Variável start armazenará o momento que o programa começar para visualizarmos, ao final,\n",
        "  # quanto tempo levou para ser executado por completo\n",
        "  start = time.time()\n",
        "\n",
        "  # Criando dicionário que armazenará possíveis avisos e/ou erros\n",
        "  lista_de_falhas = {'Avisos':[],'Erros':[]}\n",
        "\n",
        "  # # Primeiro, entraremos no link da comunidade de Teses e Dissertações, para tal armazenaremos o link na variável link\n",
        "  # link = 'https://repositorio.ufsc.br/handle/123456789/74645'\n",
        "\n",
        "  # # Passaremos um headers com \"User-Agent\" para identificarmos para o servidor o tipo de navegador\n",
        "  # # ou dispositivo que está fazendo a solicitação (boas práticas para não pensar que estamos com \"más intenções\")\n",
        "\n",
        "  # try:\n",
        "  #   # Executando uma requisção para o link e armazenando o resultado na variável \"site\"\n",
        "  #   site = requests.get(link,headers=headers,timeout=timeout)\n",
        "  # except:\n",
        "  #   print(f'Ocorreu um erro durante a requisição com link \"{link}\".\\nDescrição do erro --> '+str(sys.exc_info()[0].__name__)+\":\",str(sys.exc_info()[1])+'\\n')\n",
        "  #   lista_de_falhas['Erros'].append(f'Ocorreu um erro durante a requisição com link \"{link}\".\\nDescrição do erro --> '+str(sys.exc_info()[0].__name__)+\": \"+str(sys.exc_info()[1])+'\\n')\n",
        "  # else:\n",
        "  #   # Obtendo a resposta do status da requisição (se for igual a 200 quer dizer que foi bem sucedida)\n",
        "  #   res_code = site.status_code\n",
        "\n",
        "  #   if res_code == 200: # Se o resultado do status code for 200, prosseguiremos com a execução\n",
        "  #     numero_total_de_trabalhos = 0 # Criando uma variável que armazenará a quantidade de trabalhos captados\n",
        "  #     dic = {'Colecoes':[],'Links colecoes':[]} # Criando dicionário que armazenará as informações de nome e link das coleções\n",
        "  #     lista_links_trabalhos = []\n",
        "\n",
        "  #     # Passando o conteúdo da requisição para um formato html da BeautifulSoup\n",
        "  #     soup = BeautifulSoup(site.content, 'html.parser')\n",
        "\n",
        "  #     # Encontrando o campo que contém as informações das coleções presentes na página\n",
        "  #     campo_colecoes = soup.find('div', class_='ds-static-div secondary')\n",
        "  #     if campo_colecoes != None: # Se a busca pelo campo for bem sucedida, prosseguimos\n",
        "  #       colecoes = campo_colecoes.find_all('li') # Buscando todos os elementos (coleções) dentro do campo de coleções\n",
        "  #       if len(colecoes) == 0: # Caso o identificador dos elementos tenha mudado, ocorrerá um erro e seremos notificados\n",
        "  #         print('\\nNão foi possível encontrar os elementos das coleções corretamente.')\n",
        "  #         lista_de_falhas['Erros'].append('Não foi possível encontrar os elementos das coleções corretamente.')\n",
        "  #       else:\n",
        "  #         # Percorrendo todos os elementos de coleção\n",
        "  #         for indice, colecao in enumerate(colecoes):\n",
        "  #           nome_e_link_colecao = colecao.find('a', href=re.compile('/handle')) # Coletando o nome da coleção\n",
        "  #           try:\n",
        "  #             nome_colecao = nome_e_link_colecao.text\n",
        "  #             dic['Colecoes'].append(nome_colecao)\n",
        "\n",
        "  #             link_colecao = nome_e_link_colecao['href']\n",
        "  #             link_colecao = 'https://repositorio.ufsc.br'+link_colecao\n",
        "  #             dic['Links colecoes'].append(link_colecao)\n",
        "  #           except:\n",
        "  #             print(f'\\nErro ao encontrar o nome e link da coleção número {indice} da lista.\\nDescrição do erro --> '+str(sys.exc_info()[0].__name__)+\":\",str(sys.exc_info()[1])+'\\n')\n",
        "  #             lista_de_falhas['Avisos'].append(f'Erro ao encontrar o nome e link da coleção número {indice} da lista.\\nDescrição do erro --> '+str(sys.exc_info()[0].__name__)+\": \"+str(sys.exc_info()[1])+'\\n')\n",
        "  #           # break # Só vai pegar a primeira coleção\n",
        "  #           limite_colecoes = 5\n",
        "  #           if indice >= limite_colecoes:\n",
        "  #             print(f'\\nLIMITE DE COLEÇÕES ({limite_colecoes}) ATINGIDO.')\n",
        "  #             break\n",
        "\n",
        "  #         print('\\nNúmero de coleções encontradas:',len(dic['Links colecoes']))\n",
        "          # num_colecao = 0\n",
        "  #         # Percorrendo a listagem de links das coleções\n",
        "  dic = {'Colecoes':['HST'],'Links colecoes':[1]}\n",
        "  lista_teste = [1]\n",
        "  num_colecao = numero_total_de_trabalhos = 0\n",
        "  for i in range(len(lista_teste)):\n",
        "    dic_trabalho = {'Links trabalhos':[]}\n",
        "    num_colecao +=1\n",
        "\n",
        "    # Enviaremos uma requisição para a página de busca em cada coleção, na primeira página de resultados com um\n",
        "    # total de 100 resultados por página (padrão é 10, mas podemos alterar isso mexendo no link da requisição.\n",
        "    # Escolhido foi 100 que é um número 10 vezes maior que o padrão e a resposta vem em, aproximadamente, 10s)\n",
        "    link_colecao_atual = 'https://repositorio.ufsc.br/handle/123456789/74785/discover?rpp=50&etal=0&group_by=none&page=1&filtertype_0=dateIssued&filtertype_1=title&filter_relational_operator_1=contains&filter_relational_operator_0=equals&filter_1=&filter_0=%5B2010+TO+2023%5D'\n",
        "\n",
        "#                                       MUDAR O RPP = 50 PARA RPP = 100 !!!!!!!!!!!!!!!!!!!!!!!!!!!!!!!!!!!!!!!!!!!!!!!!!!!!!!!!\n",
        "\n",
        "    try:\n",
        "      site = requests.get(link_colecao_atual,headers=headers,timeout=timeout)\n",
        "    except:\n",
        "      print(f'Ocorreu um erro durante a requisição com link \"{link_colecao_atual}\".\\nDescrição do erro --> '+str(sys.exc_info()[0].__name__)+\":\",str(sys.exc_info()[1])+'\\n')\n",
        "      lista_de_falhas['Erros'].append(f'Ocorreu um erro durante a requisição com link \"{link_colecao_atual}\".\\nDescrição do erro --> '+str(sys.exc_info()[0].__name__)+\": \"+str(sys.exc_info()[1])+'\\n')\n",
        "      feedback_geral += '\\nOcorreu um erro durante a requisição com link \"{link_colecao_atual}\".\\nDescrição do erro --> '+str(sys.exc_info()[0].__name__)+\": \"+str(sys.exc_info()[1])+'.'\n",
        "      break\n",
        "    else:\n",
        "      res_code = site.status_code\n",
        "      if res_code == 200:\n",
        "        soup = BeautifulSoup(site.content, 'html.parser')\n",
        "        # Outro modo de encontrar objetos dentro do conteúdo html (agora o número de páginas)\n",
        "        numero_paginas = soup.find('div', attrs={\"class\":'pagination-masked top'})\n",
        "        if numero_paginas == None:\n",
        "          print('\\nNão foi possível achar número de páginas corretamente.\\n(numero_paginas == None)')\n",
        "          lista_de_falhas[\"Avisos\"].append(f'Não foi possível achar número de páginas corretamente da coleção {dic[\"Colecoes\"][i]} --> (numero_paginas == None).')\n",
        "          feedback_geral +=f'\\nNão foi possível achar número de páginas corretamente da coleção {dic[\"Colecoes\"][i]} --> (numero_paginas == None).'\n",
        "        else:\n",
        "          paginas_links = numero_paginas.find('ul',class_='pagination-links')\n",
        "          if paginas_links == None:\n",
        "            print('\\nNão foi possível achar número de páginas corretamente.\\n(paginas_links == None)')\n",
        "            lista_de_falhas[\"Avisos\"].append(f'Não foi possível achar número de páginas corretamente da coleção {dic[\"Colecoes\"][i]} --> (paginas_links == None).')\n",
        "            feedback_geral += f'\\nNão foi possível achar número de páginas corretamente da coleção {dic[\"Colecoes\"][i]} --> (paginas_links == None).'\n",
        "          else:\n",
        "            links_pagina = paginas_links.find_all('li')\n",
        "            if links_pagina == None:\n",
        "              print('\\nNão foi possível achar número de páginas corretamente.\\n(links_pagina == None)')\n",
        "              lista_de_falhas[\"Avisos\"].append(f'Não foi possível achar número de páginas corretamente da coleção {dic[\"Colecoes\"][i]} --> (links_pagina == None).')\n",
        "              feedback_geral += f'\\nNão foi possível achar número de páginas corretamente da coleção {dic[\"Colecoes\"][i]} --> (links_pagina == None).'\n",
        "            else:\n",
        "              try:\n",
        "                numero_paginas = int(links_pagina[len(links_pagina)-1].find('a').text)\n",
        "                # print('NUMERO PAGINAS:',numero_paginas)\n",
        "              except:\n",
        "                print('\\nNúmero de páginas não pode ser convertido para inteiro, logo foi setado como 1.\\nDescrição do erro --> '+str(sys.exc_info()[0].__name__)+\":\",str(sys.exc_info()[1])+'\\n')\n",
        "                numero_paginas = 1\n",
        "                lista_de_falhas[\"Avisos\"].append(f'Número de páginas da coleção {dic[\"Colecoes\"][i]} não pode ser convertido para inteiro, logo foi setado como 1\\nDescrição do erro --> '+str(sys.exc_info()[0].__name__)+\": \"+str(sys.exc_info()[1])+'\\n')\n",
        "                feedback_geral += f'\\nNúmero de páginas da coleção {dic[\"Colecoes\"][i]} não pode ser convertido para inteiro, logo foi setado como 1\\nDescrição do erro --> '+str(sys.exc_info()[0].__name__)+\": \"+str(sys.exc_info()[1])+'.'\n",
        "              print('\\nNúmero total de páginas:',numero_paginas)\n",
        "              feedback_geral += f'\\nNúmero total de páginas {numero_paginas}'\n",
        "\n",
        "              # Encontrando todos os links de teses e dissertações dentro do campo do resultado de busca dos mesmos\n",
        "              links = soup.find_all('li', class_=re.compile('ds-artifact-item clearfix'))\n",
        "              if len(links) == 0:\n",
        "                print('\\nNão foi possível encontrar corretamente os links para os trabalhos.')\n",
        "                lista_de_falhas[\"Avisos\"].append(f'Não foi possível encontrar/captar corretamente os links para os trabalhos da coleção {dic[\"Colecoes\"][i]}.')\n",
        "                feedback_geral += f'\\nNão foi possível encontrar/captar corretamente os links para os trabalhos da coleção {dic[\"Colecoes\"][i]}.'\n",
        "              else:\n",
        "                pagina = 1\n",
        "                # Entraremos num loop que percorrerá todas as páginas de resultado da parte de busca da coleção\n",
        "                while(pagina <= numero_paginas):\n",
        "                  print('\\nIndo para página:',pagina)\n",
        "                  feedback_geral += f'\\nIndo para página {pagina}'\n",
        "\n",
        "                  link = f'https://repositorio.ufsc.br/handle/123456789/74785/discover?rpp=50&etal=0&group_by=none&page={pagina}&filtertype_0=dateIssued&filtertype_1=title&filter_relational_operator_1=contains&filter_relational_operator_0=equals&filter_1=&filter_0=%5B2010+TO+2023%5D'\n",
        "        #                                       MUDAR O RPP = 50 PARA RPP = 100 !!!!!!!!!!!!!!!!!!!!!!!!!!!!!!!!!!!!!!!!!!!!!!!!!!!!!!!!\n",
        "                  try:\n",
        "                    site = requests.get(link,headers=headers,timeout=timeout)\n",
        "                  except:\n",
        "                    print(f'Ocorreu um erro durante a requisição com link \"{link}\".\\nDescrição do erro --> '+str(sys.exc_info()[0].__name__)+\":\",str(sys.exc_info()[1])+'\\n')\n",
        "                    lista_de_falhas['Erros'].append(f'Ocorreu um erro durante a requisição com link \"{link}\".\\nDescrição do erro --> '+str(sys.exc_info()[0].__name__)+\": \"+str(sys.exc_info()[1])+'\\n')\n",
        "                    feedback_geral += f'\\nOcorreu um erro durante a requisição com link \"{link}\".\\nDescrição do erro --> '+str(sys.exc_info()[0].__name__)+\": \"+str(sys.exc_info()[1])+'.'\n",
        "                    break\n",
        "                  else:\n",
        "                    res_code = site.status_code\n",
        "                    if res_code == 200:\n",
        "                      soup = BeautifulSoup(site.content, 'html.parser')\n",
        "                      links = soup.find_all('li', class_=re.compile('ds-artifact-item clearfix'))\n",
        "                      if len(links) == 0:\n",
        "                        print(f'\\nNão foi possível encontrar corretamente os links dos resultados da coleção {dic[\"Colecoes\"][i]} no link: \"{link}\".')\n",
        "                        lista_de_falhas['Avisos'].append(f'Não foi possível encontrar/coletar corretamente os links dos resultados da coleção {dic[\"Colecoes\"][i]} no link: \"{link}\".')\n",
        "                        feedback_geral += f'\\nNão foi possível encontrar/coletar corretamente os links dos resultados da coleção {dic[\"Colecoes\"][i]} no link: \"{link}\".'\n",
        "                      else:\n",
        "                        for links_trabalho in links:\n",
        "                          link_trabalho = links_trabalho.find('a', href=re.compile('/handle'))\n",
        "                          if link_trabalho != None:\n",
        "                            link_trabalho = link_trabalho['href']\n",
        "                            link_trabalho = 'https://repositorio.ufsc.br'+link_trabalho\n",
        "                            dic_trabalho['Links trabalhos'].append(link_trabalho)\n",
        "                            numero_total_de_trabalhos += 1\n",
        "                          else:\n",
        "                            print(f'\\nLink do trabalho não foi encontrado corretamente. Coleção: {dic[\"Colecoes\"][i]}, link: \"{link}\".')\n",
        "                            lista_de_falhas['Avisos'].append(f'Link do trabalho não foi encontrado corretamente. Coleção: {dic[\"Colecoes\"][i]}, link: \"{link}\".')\n",
        "                            feedback_geral += f'\\nLink do trabalho não foi encontrado corretamente. Coleção: {dic[\"Colecoes\"][i]}, link: \"{link}\".'\n",
        "                    else:\n",
        "                      print(f'\\nErro de conexão com o site (internet fora do ar ou servidor do repositório fora do ar). Coleção que parou: {dic[\"Colecoes\"][i]}.')\n",
        "                      lista_de_falhas['Erros'].append(f'Erro de conexão com o site do repositório \"{link}\". Possivelmente internet instável/fora do ar ou servidor do repositório fora do ar). Coleção que parou: {dic[\"Colecoes\"][i]}.')\n",
        "                      feedback_geral += f'\\nErro de conexão com o site do repositório \"{link}\". Possivelmente internet instável/fora do ar ou servidor do repositório fora do ar). Coleção que parou: {dic[\"Colecoes\"][i]}.'\n",
        "                    # Limitando a busca (primeiramente não vamos passsar por todos os resultados)\n",
        "                    # limite_pagina = 1\n",
        "                    # if pagina >= limite_pagina:\n",
        "                    #   print(f'\\nLIMITE DE PÁGINAS ({limite_pagina}) ALCANÇADO.')\n",
        "                    #   break\n",
        "                    # else:\n",
        "                      # pagina += 1\n",
        "                    pagina += 1\n",
        "\n",
        "                print('\\nNúmero de links captados:',len(dic_trabalho[\"Links trabalhos\"]))\n",
        "                feedback_geral += f'\\nNúmero de links captados: {len(dic_trabalho[\"Links trabalhos\"])}'\n",
        "\n",
        "              df = pd.DataFrame(dic_trabalho)\n",
        "\n",
        "              # Tratando possíveis erros na hora de salvar o arquivo\n",
        "              if '/' in dic[\"Colecoes\"][i]:\n",
        "                index = dic[\"Colecoes\"][i].find('/')\n",
        "                dic[\"Colecoes\"][i] = dic[\"Colecoes\"][i][:index]+'_'+dic[\"Colecoes\"][i][index+1:]\n",
        "              if ':' in dic[\"Colecoes\"][i]:\n",
        "                index = dic[\"Colecoes\"][i].find(':')\n",
        "                dic[\"Colecoes\"][i] = dic[\"Colecoes\"][i][:index]+' '+dic[\"Colecoes\"][i][index+1:]\n",
        "              try:\n",
        "                df.to_csv(f'{caminho_pasta_principal}/Links dos trabalhos - Repositorio UFSC/{dic[\"Colecoes\"][i]}_Links_dos_Trabalhos.csv',index=False,encoding='utf-8',sep=',')\n",
        "              except:\n",
        "                print(f'\\nErro ao fazer download do arquivo .csv para coleção {dic[\"Colecoes\"][i]}.\\nDescrição do erro --> '+str(sys.exc_info()[0].__name__)+\":\",str(sys.exc_info()[1])+'\\n')\n",
        "                lista_de_falhas['Erros'].append(f'Erro ao fazer download do arquivo .csv para coleção {dic[\"Colecoes\"][i]}.\\nDescrição do erro --> '+str(sys.exc_info()[0].__name__)+\": \"+str(sys.exc_info()[1])+'\\n')\n",
        "                feedback_geral += f'\\nErro ao fazer download do arquivo .csv para coleção {dic[\"Colecoes\"][i]}.\\nDescrição do erro --> '+str(sys.exc_info()[0].__name__)+\": \"+str(sys.exc_info()[1])+'.'\n",
        "              else:\n",
        "                print(f'\\nDownload do arquivo .csv da coleção {dic[\"Colecoes\"][i]} feito com sucesso!\\n')\n",
        "                feedback_geral += f'\\nDownload do arquivo .csv da coleção {dic[\"Colecoes\"][i]} feito com sucesso!'\n",
        "              # Código abaixo comentado, pois era apenas para fins de limitar o número de coleções que serão visitadas\n",
        "              # num_colecao_maxima = 4\n",
        "              # if num_colecao >= num_colecao_maxima:\n",
        "              #   print(f'Parou na {num_colecao} coleção.')\n",
        "              #   break\n",
        "  print('='*100)\n",
        "  print('Programa executado com sucesso!\\nNúmero total de links de trabalhos coletados:',numero_total_de_trabalhos)\n",
        "  print(f'Número de Coleções visitadas:',len(dic[\"Links colecoes\"]))\n",
        "  print('='*100)\n",
        "  feedback_geral += '\\n'+('='*100)+f'\\nPrograma executado com sucesso!\\nNúmero total de links de trabalhos coletados: {numero_total_de_trabalhos}\\nNúmero de Coleções visitadas: {len(dic[\"Links colecoes\"])}.'\n",
        "\n",
        "\n",
        "# else: # Caso a localização ou identificação do campo de coleções tenha mudado, ocorrerá um erro e seremos notificados.\n",
        "#   print('\\nCampo das coleções não identificado corretamente.')\n",
        "#   lista_de_falhas['Erros'].append(\"Campo das coleções 'find('div', class_='ds-static-div secondary')' não identificado corretamente.\")\n",
        "\n",
        "# else: # Caso a internet esteja ruim ou o servidor da UFSC esteja fora do ar, ocorrerá um erro e seremos notificados.\n",
        "#   print('\\nErro de conexão com o site (internet fora do ar ou servidor do repositório fora do ar)...')\n",
        "#   lista_de_falhas['Erros'].append(f'Erro de conexão com o site do repositório \"{link}\". Possivelmente internet instável/fora do ar ou servidor do repositório fora do ar.')\n",
        "\n",
        "  print('\\n')\n",
        "  print('='*100)\n",
        "  print('Número de avisos gerados:',len(lista_de_falhas[\"Avisos\"]))\n",
        "  print('Número de erros gerados:',len(lista_de_falhas[\"Erros\"]))\n",
        "  print('='*100)\n",
        "  feedback_geral += f'\\n\\nNúmero de avisos gerados:{len(lista_de_falhas[\"Avisos\"])}\\nNúmero de erros gerados:{len(lista_de_falhas[\"Erros\"])}'\n",
        "  # Salvando arquivos de Avisos e Erros ao decorrer desta execução\n",
        "  if (len(lista_de_falhas['Avisos']) > 0):\n",
        "    file_path = f'{caminho_pasta_principal}/Links dos trabalhos - Repositorio UFSC/1 AVISOS.txt'\n",
        "    texto = 'AVISOS:\\n\\n'\n",
        "    for i in range(len(lista_de_falhas['Avisos'])):\n",
        "      texto = texto + '\\n' + lista_de_falhas['Avisos'][i]\n",
        "    with open(file_path, 'w') as f:\n",
        "      f.write(texto)\n",
        "      print('\\nArquivo de avisos salvo com sucesso.\\nVerifique-o!')\n",
        "      feedback_geral += '\\nArquivo de avisos salvo com sucesso.\\nVerifique-o!'\n",
        "      f.close()\n",
        "  if (len(lista_de_falhas['Erros']) > 0):\n",
        "    file_path = f'{caminho_pasta_principal}/Links dos trabalhos - Repositorio UFSC/1 ERROS.txt'\n",
        "    texto = 'ERROS:\\n\\n'\n",
        "    for i in range(len(lista_de_falhas['Erros'])):\n",
        "      texto = texto + '\\n' + lista_de_falhas['Erros'][i]\n",
        "    with open(file_path, 'w') as f:\n",
        "      f.write(texto)\n",
        "      print('\\nArquivo de erros salvo com sucesso.\\nVerifique-o!')\n",
        "      feedback_geral += '\\nArquivo de erros salvo com sucesso.\\nVerifique-o!'\n",
        "      f.close()\n",
        "\n",
        "  end = time.time()\n",
        "\n",
        "  duracao = end - start\n",
        "  print('\\n')\n",
        "  print('='*100)\n",
        "  print('Duração total da primeira execução:',round(duracao,2))\n",
        "  print('='*100)\n",
        "  feedback_geral += '\\n'+('='*100)+f'\\nDuração total da primeira execução: {round(duracao,2)} segundos.\\n'+('='*100)\n",
        "else:\n",
        "  print('\\nFalha na execução das células anteriores. Volte, leia as saídas das células anteriores e tente executá-las novamente.\\n')\n",
        "  feedback_geral += '\\nFalha na execução das células anteriores. Volte, leia as saídas das células anteriores e tente executá-las novamente.'\n",
        "\n",
        "with open(f'{caminho_pasta_principal}/Feedbacks de execução/Feedback Geral Execução 1.txt','w',encoding='utf-8') as f:\n",
        "  f.write(feedback_geral)\n",
        "  f.close()\n",
        "  print('\\n\\nArquivo de feedback geral salvo com sucesso')"
      ],
      "metadata": {
        "id": "FkPZFaUuhGb3"
      },
      "execution_count": null,
      "outputs": []
    }
  ]
}